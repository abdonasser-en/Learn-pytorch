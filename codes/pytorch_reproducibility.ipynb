{
 "cells": [
  {
   "attachments": {},
   "cell_type": "markdown",
   "metadata": {},
   "source": [
    "### Reproducibility"
   ]
  },
  {
   "cell_type": "code",
   "execution_count": 3,
   "metadata": {},
   "outputs": [
    {
     "name": "stdout",
     "output_type": "stream",
     "text": [
      "Tensor 1 =\n",
      " tensor([[0.1165, 0.9103, 0.6440, 0.7071],\n",
      "        [0.6581, 0.4913, 0.8913, 0.1447],\n",
      "        [0.5315, 0.1587, 0.6542, 0.3278],\n",
      "        [0.6532, 0.3958, 0.9147, 0.2036],\n",
      "        [0.2018, 0.2018, 0.9497, 0.6666]])\n",
      "\n",
      "Tensor 2 =\n",
      " tensor([[0.9811, 0.0874, 0.0041, 0.1088],\n",
      "        [0.1637, 0.7025, 0.6790, 0.9155],\n",
      "        [0.2418, 0.1591, 0.7653, 0.2979],\n",
      "        [0.8035, 0.3813, 0.7860, 0.1115],\n",
      "        [0.2477, 0.6524, 0.6057, 0.3725]])\n"
     ]
    }
   ],
   "source": [
    "import torch\n",
    "\n",
    "# Create two random tensors\n",
    "tensor_random_1 = torch.rand(5, 4)\n",
    "print(\"Tensor 1 =\\n\",tensor_random_1)\n",
    "print(\"\")\n",
    "tensor_random_2 = torch.rand(5, 4)\n",
    "print(\"Tensor 2 =\\n\",tensor_random_2)"
   ]
  },
  {
   "attachments": {},
   "cell_type": "markdown",
   "metadata": {},
   "source": [
    "we could verify if tensor 1 is equal to tensor 2. But, i don't think so :smile:"
   ]
  },
  {
   "cell_type": "code",
   "execution_count": 4,
   "metadata": {},
   "outputs": [
    {
     "data": {
      "text/plain": [
       "tensor([[False, False, False, False],\n",
       "        [False, False, False, False],\n",
       "        [False, False, False, False],\n",
       "        [False, False, False, False],\n",
       "        [False, False, False, False]])"
      ]
     },
     "execution_count": 4,
     "metadata": {},
     "output_type": "execute_result"
    }
   ],
   "source": [
    "tensor_random_1 == tensor_random_2"
   ]
  },
  {
   "cell_type": "code",
   "execution_count": 6,
   "metadata": {},
   "outputs": [],
   "source": [
    "# Set the random seed\n",
    "seed=42 # You can choose any number you want; 42 is just one we often see in examples."
   ]
  },
  {
   "attachments": {},
   "cell_type": "markdown",
   "metadata": {},
   "source": [
    "> Note : you have to reset the seed every time a new rand() is called "
   ]
  },
  {
   "cell_type": "code",
   "execution_count": 8,
   "metadata": {},
   "outputs": [
    {
     "name": "stdout",
     "output_type": "stream",
     "text": [
      "Tensor 3 =\n",
      " tensor([[0.8823, 0.9150, 0.3829, 0.9593],\n",
      "        [0.3904, 0.6009, 0.2566, 0.7936],\n",
      "        [0.9408, 0.1332, 0.9346, 0.5936],\n",
      "        [0.8694, 0.5677, 0.7411, 0.4294],\n",
      "        [0.8854, 0.5739, 0.2666, 0.6274]])\n",
      "Tensor 4 =\n",
      " tensor([[0.8823, 0.9150, 0.3829, 0.9593],\n",
      "        [0.3904, 0.6009, 0.2566, 0.7936],\n",
      "        [0.9408, 0.1332, 0.9346, 0.5936],\n",
      "        [0.8694, 0.5677, 0.7411, 0.4294],\n",
      "        [0.8854, 0.5739, 0.2666, 0.6274]])\n"
     ]
    }
   ],
   "source": [
    "# set the random seed for the PyTorch library\n",
    "torch.manual_seed(seed=seed) \n",
    "tensor_random_3 = torch.rand(5, 4)\n",
    "print(\"Tensor 3 =\\n\",tensor_random_3)\n",
    "\n",
    "\n",
    "torch.random.manual_seed(seed=seed) \n",
    "tensor_random_4 = torch.rand(5, 4)\n",
    "print(\"Tensor 4 =\\n\",tensor_random_4)\n"
   ]
  },
  {
   "attachments": {},
   "cell_type": "markdown",
   "metadata": {},
   "source": [
    "Tensor 3 sould be  equal to Tensor 4 :smile:"
   ]
  },
  {
   "attachments": {},
   "cell_type": "markdown",
   "metadata": {},
   "source": [
    "try to comment out one of the line **\"torch.random.manual_seed(seed=seed)\"** and run the code. What can you say ?"
   ]
  }
 ],
 "metadata": {
  "kernelspec": {
   "display_name": "base",
   "language": "python",
   "name": "python3"
  },
  "language_info": {
   "codemirror_mode": {
    "name": "ipython",
    "version": 3
   },
   "file_extension": ".py",
   "mimetype": "text/x-python",
   "name": "python",
   "nbconvert_exporter": "python",
   "pygments_lexer": "ipython3",
   "version": "3.10.9"
  },
  "orig_nbformat": 4
 },
 "nbformat": 4,
 "nbformat_minor": 2
}
